{
 "cells": [
  {
   "cell_type": "code",
   "execution_count": 5,
   "id": "5216400f-24ea-450f-b65c-b9215e7c57af",
   "metadata": {},
   "outputs": [
    {
     "name": "stdout",
     "output_type": "stream",
     "text": [
      "------스택 상태 ------\n",
      "None\n",
      "None\n",
      "꿀물\n",
      "녹차\n",
      "커피\n",
      "pop--> 꿀물\n",
      "pop--> 녹차\n",
      "pop--> 커피\n"
     ]
    }
   ],
   "source": [
    "stack = [None,None,None,None,None]\n",
    "top = -1\n",
    "\n",
    "# push\n",
    "top+=1\n",
    "stack[top] = '커피'\n",
    "top+=1\n",
    "stack[top] = '녹차'\n",
    "top+=1\n",
    "stack[top] = '꿀물'\n",
    "\n",
    "print('------스택 상태 ------')\n",
    "for i in range(len(stack)-1,-1,-1):\n",
    "    print(stack[i])\n",
    "\n",
    "# pop\n",
    "data = stack[top]\n",
    "stack[top] = None\n",
    "top-=1\n",
    "\n",
    "print('pop-->',data)\n",
    "\n",
    "data = stack[top]\n",
    "stack[top] = None\n",
    "top-=1\n",
    "\n",
    "print('pop-->',data)\n",
    "\n",
    "data = stack[top]\n",
    "stack[top] = None\n",
    "top-=1\n",
    "\n",
    "print('pop-->',data)"
   ]
  },
  {
   "cell_type": "code",
   "execution_count": null,
   "id": "cf309155-347f-4fd0-991e-4ab4ddbc11a4",
   "metadata": {},
   "outputs": [],
   "source": []
  }
 ],
 "metadata": {
  "kernelspec": {
   "display_name": "Python 3 (ipykernel)",
   "language": "python",
   "name": "python3"
  },
  "language_info": {
   "codemirror_mode": {
    "name": "ipython",
    "version": 3
   },
   "file_extension": ".py",
   "mimetype": "text/x-python",
   "name": "python",
   "nbconvert_exporter": "python",
   "pygments_lexer": "ipython3",
   "version": "3.11.7"
  }
 },
 "nbformat": 4,
 "nbformat_minor": 5
}
