{
 "cells": [
  {
   "cell_type": "code",
   "execution_count": 3,
   "metadata": {},
   "outputs": [
    {
     "name": "stdout",
     "output_type": "stream",
     "text": [
      "배열--> [183, 147, 100, 148, 188, 162, 79, 50]\n",
      "147 는  1 위치에 있음.\n"
     ]
    }
   ],
   "source": [
    "# 함수\n",
    "from random import randint, choice\n",
    "def seqSearch(ary, fdata) :\n",
    "    pos = -1\n",
    "    for i in range(len(ary)) :\n",
    "        if (ary[i] == fdata) :\n",
    "            pos = i\n",
    "            break\n",
    "    return pos\n",
    "\n",
    "# 변수\n",
    "dataAry = [randint(30, 190) for _ in range(8)]\n",
    "findData = choice(dataAry) # 누나 키\n",
    "\n",
    "# 메인\n",
    "print('배열-->', dataAry)\n",
    "position = seqSearch(dataAry, findData)\n",
    "if (position != -1) :\n",
    "    print(findData,'는 ', position, '위치에 있음.')\n",
    "else :\n",
    "    print(findData, '는 없어요ㅠ')"
   ]
  },
  {
   "cell_type": "code",
   "execution_count": 4,
   "metadata": {},
   "outputs": [
    {
     "name": "stdout",
     "output_type": "stream",
     "text": [
      "배열--> [34, 41, 53, 58, 101, 122, 133, 150, 164, 165]\n",
      "122 는  5 위치에 있음.\n"
     ]
    }
   ],
   "source": [
    "# 함수\n",
    "from random import randint, choice\n",
    "def binSearch(ary, fdata) :\n",
    "    pos = -1\n",
    "    start = 0\n",
    "    end = len(ary)-1\n",
    "    while(start <= end):\n",
    "        mid = (start + end) // 2\n",
    "        if(ary[mid] == fdata):\n",
    "            pos = mid\n",
    "            break\n",
    "        elif(ary[mid] < fdata):\n",
    "            start = mid + 1\n",
    "        else:\n",
    "            end = mid - 1\n",
    "    return pos\n",
    "\n",
    "# 변수\n",
    "dataAry = [randint(30, 190) for _ in range(10)]\n",
    "dataAry.sort()\n",
    "findData = choice(dataAry) # 할머니 키\n",
    "\n",
    "# 메인\n",
    "print('배열-->', dataAry)\n",
    "position = binSearch(dataAry, findData)\n",
    "if (position != -1) :\n",
    "    print(findData,'는 ', position, '위치에 있음.')\n",
    "else :\n",
    "    print(findData, '는 없어요ㅠ')"
   ]
  }
 ],
 "metadata": {
  "kernelspec": {
   "display_name": "Python 3",
   "language": "python",
   "name": "python3"
  },
  "language_info": {
   "codemirror_mode": {
    "name": "ipython",
    "version": 3
   },
   "file_extension": ".py",
   "mimetype": "text/x-python",
   "name": "python",
   "nbconvert_exporter": "python",
   "pygments_lexer": "ipython3",
   "version": "3.10.9"
  }
 },
 "nbformat": 4,
 "nbformat_minor": 2
}
