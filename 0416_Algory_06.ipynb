{
 "cells": [
  {
   "cell_type": "code",
   "execution_count": 1,
   "metadata": {},
   "outputs": [
    {
     "name": "stdout",
     "output_type": "stream",
     "text": [
      "최솟값--> 33\n"
     ]
    }
   ],
   "source": [
    "# 함수\n",
    "def findMinIndex(ary):\n",
    "    minIdx = 0\n",
    "    for i in range(1,len(ary)):\n",
    "        if(ary[minIdx]> ary[i]):\n",
    "            minIdx = i\n",
    "    return minIdx\n",
    "\n",
    "# 변수\n",
    "testAry=[55,88,33,77]\n",
    "\n",
    "# 메인\n",
    "minPos = findMinIndex(testAry)\n",
    "print('최솟값-->', testAry[minPos])"
   ]
  },
  {
   "cell_type": "code",
   "execution_count": 3,
   "metadata": {},
   "outputs": [
    {
     "name": "stdout",
     "output_type": "stream",
     "text": [
      "정렬 전--> [147, 34, 131, 151, 118, 158, 148, 45]\n",
      "정렬 후--> [34, 45, 118, 131, 147, 148, 151, 158]\n"
     ]
    }
   ],
   "source": [
    "# 함수\n",
    "from random import randint\n",
    "def findMinIndex(ary):\n",
    "    minIdx = 0\n",
    "    for i in range(1,len(ary)):\n",
    "        if(ary[minIdx]> ary[i]):\n",
    "            minIdx = i\n",
    "    return minIdx\n",
    "\n",
    "# 변수\n",
    "before = [randint(30,190) for _ in range(8)]\n",
    "after = []\n",
    "\n",
    "\n",
    "# 메인\n",
    "print('정렬 전-->',before)\n",
    "for i in range(len(before)):\n",
    "    minPos =  findMinIndex(before)\n",
    "    after.append(before[minPos])\n",
    "    del(before[minPos])\n",
    "\n",
    "print('정렬 후-->',after)"
   ]
  },
  {
   "cell_type": "code",
   "execution_count": 4,
   "metadata": {},
   "outputs": [
    {
     "name": "stdout",
     "output_type": "stream",
     "text": [
      "정렬 전--> [75, 59, 137, 154]\n",
      "정렬 후--> [59, 75, 137, 154]\n"
     ]
    }
   ],
   "source": [
    "# 함수\n",
    "from random import randint\n",
    "def selectSort(ary):\n",
    "    n = len(ary) # 전체 데이터 개수\n",
    "    for i in range(0,n-1): # 사이클 (큰 회전)\n",
    "        minIdx = i\n",
    "        for j in range(i+1,n):\n",
    "            if(ary[minIdx]>ary[j]):\n",
    "                minIdx = j\n",
    "        ary[i], ary[minIdx] = ary[minIdx], ary[i]\n",
    "\n",
    "    return ary\n",
    "\n",
    "\n",
    "# 변수\n",
    "dataAry = [randint(30,190) for _ in range(4)]\n",
    "\n",
    "\n",
    "# 메인\n",
    "print('정렬 전-->',dataAry)\n",
    "dataAry = selectSort(dataAry)\n",
    "print('정렬 후-->',dataAry)\n",
    "\n"
   ]
  },
  {
   "cell_type": "code",
   "execution_count": null,
   "metadata": {},
   "outputs": [],
   "source": []
  }
 ],
 "metadata": {
  "kernelspec": {
   "display_name": "Python 3",
   "language": "python",
   "name": "python3"
  },
  "language_info": {
   "codemirror_mode": {
    "name": "ipython",
    "version": 3
   },
   "file_extension": ".py",
   "mimetype": "text/x-python",
   "name": "python",
   "nbconvert_exporter": "python",
   "pygments_lexer": "ipython3",
   "version": "3.10.9"
  }
 },
 "nbformat": 4,
 "nbformat_minor": 2
}
