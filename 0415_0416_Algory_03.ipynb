{
 "cells": [
  {
   "cell_type": "code",
   "execution_count": 2,
   "id": "5216400f-24ea-450f-b65c-b9215e7c57af",
   "metadata": {},
   "outputs": [
    {
     "name": "stdout",
     "output_type": "stream",
     "text": [
      "------스택 상태 ------\n",
      "None\n",
      "None\n",
      "꿀물\n",
      "녹차\n",
      "커피\n",
      "pop--> 꿀물\n",
      "pop--> 녹차\n",
      "pop--> 커피\n"
     ]
    }
   ],
   "source": [
    "stack = [None,None,None,None,None]\n",
    "top = -1\n",
    "\n",
    "# push\n",
    "top+=1\n",
    "stack[top] = '커피'\n",
    "top+=1\n",
    "stack[top] = '녹차'\n",
    "top+=1\n",
    "stack[top] = '꿀물'\n",
    "\n",
    "print('------스택 상태 ------')\n",
    "for i in range(len(stack)-1,-1,-1):\n",
    "    print(stack[i])\n",
    "\n",
    "# pop\n",
    "data = stack[top]\n",
    "stack[top] = None\n",
    "top-=1\n",
    "\n",
    "print('pop-->',data)\n",
    "\n",
    "data = stack[top]\n",
    "stack[top] = None\n",
    "top-=1\n",
    "\n",
    "print('pop-->',data)\n",
    "\n",
    "data = stack[top]\n",
    "stack[top] = None\n",
    "top-=1\n",
    "\n",
    "print('pop-->',data)"
   ]
  },
  {
   "cell_type": "code",
   "execution_count": 14,
   "id": "cf309155-347f-4fd0-991e-4ab4ddbc11a4",
   "metadata": {},
   "outputs": [
    {
     "name": "stdout",
     "output_type": "stream",
     "text": [
      "바닥: ['커피', '녹차', None, None, None]\n",
      "팝--> 녹차\n",
      "다음 예정==> 커피\n",
      "팝--> 커피\n",
      "스택 텅~\n",
      "팝--> None\n"
     ]
    }
   ],
   "source": [
    "# 함수\n",
    "def isStackFull():\n",
    "    global size,stack,top\n",
    "    if (top >= size-1):\n",
    "        return True\n",
    "    else:\n",
    "        return False\n",
    "\n",
    "def push(data):\n",
    "    global size,  stack, top\n",
    "    if (isStackFull()):\n",
    "        print('스택 꽉!')\n",
    "        return\n",
    "    else:\n",
    "        top+=1\n",
    "        stack[top] = data\n",
    "\n",
    "def isStackEmpty():\n",
    "    global size,stack,top\n",
    "    if(top==-1):\n",
    "        return True\n",
    "    else:\n",
    "        return False\n",
    "\n",
    "def pop():\n",
    "    global size,stack,top\n",
    "    if (isStackEmpty()):\n",
    "        print('스택 텅~')\n",
    "        return\n",
    "    data = stack[top]\n",
    "    stack[top] = None\n",
    "    top-=1\n",
    "    return data\n",
    "\n",
    "def peek():\n",
    "    global size,stack,top\n",
    "    if (isStackEmpty()):\n",
    "        print('스택 텅~')\n",
    "        return\n",
    "    return stack[top]\n",
    "\n",
    "# 변수\n",
    "size=5\n",
    "stack=[None for _ in range(size)]\n",
    "top = -1\n",
    "\n",
    "# 메인\n",
    "push('커피')\n",
    "push('녹차')\n",
    "# push('꿀물')\n",
    "# push('콜라')\n",
    "# push('환타')\n",
    "\n",
    "print('바닥:',stack)\n",
    "\n",
    "retData = pop()\n",
    "print('팝-->',retData)\n",
    "\n",
    "print('다음 예정==>',peek())\n",
    "\n",
    "retData = pop()\n",
    "print('팝-->',retData)\n",
    "\n",
    "retData = pop()\n",
    "print('팝-->',retData)"
   ]
  },
  {
   "cell_type": "code",
   "execution_count": 10,
   "id": "9ad6fd51",
   "metadata": {},
   "outputs": [],
   "source": [
    "# 함수\n",
    "\n",
    "# 변수\n",
    "\n",
    "# 메인"
   ]
  },
  {
   "cell_type": "code",
   "execution_count": null,
   "id": "b33acb81",
   "metadata": {},
   "outputs": [],
   "source": []
  }
 ],
 "metadata": {
  "kernelspec": {
   "display_name": "Python 3 (ipykernel)",
   "language": "python",
   "name": "python3"
  },
  "language_info": {
   "codemirror_mode": {
    "name": "ipython",
    "version": 3
   },
   "file_extension": ".py",
   "mimetype": "text/x-python",
   "name": "python",
   "nbconvert_exporter": "python",
   "pygments_lexer": "ipython3",
   "version": "3.10.9"
  }
 },
 "nbformat": 4,
 "nbformat_minor": 5
}
