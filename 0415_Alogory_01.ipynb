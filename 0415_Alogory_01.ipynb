{
 "cells": [
  {
   "cell_type": "code",
   "execution_count": 5,
   "id": "440394c1-2dad-487e-a61b-86d2f4d7eb52",
   "metadata": {},
   "outputs": [
    {
     "name": "stdout",
     "output_type": "stream",
     "text": [
      "['다현', '정연', '쯔위', '사나', '지효', '모모']\n",
      "['다현', '정연', '쯔위', '미나', '사나', '지효', '모모']\n",
      "['다현', '정연', '쯔위', '미나', '지효', '모모']\n"
     ]
    }
   ],
   "source": [
    "## 함수 선언부\n",
    "\n",
    "\n",
    "\n",
    "## 전역 변수부\n",
    "katok = ['다현', '정연','쯔위','사나','지효']\n",
    "\n",
    "\n",
    "## 메인 코드부\n",
    "\n",
    "#$ 데이터 추가 (모모에게 1호 카톡)\n",
    "# 1단계 :  빈칸 추가\n",
    "katok.append(None)\n",
    "# 2단계 :  마지막 칸에 새 친구 입력\n",
    "katok[5] = '모모'\n",
    "print(katok)\n",
    "\n",
    "#$ 데이터 삽입 (미나에게 연속 40회 카톡 == 미나를 3등으로)\n",
    "# 1단계 :  빈칸 추가\n",
    "katok.append(None)\n",
    "# 2단계 :  한칸씩 뒤로 이동 (마지막 부터 이동... 3등까지)\n",
    "katok[6] = katok[5] # 모모\n",
    "katok[5] = None\n",
    "katok[5] = katok[4] # 지효\n",
    "katok[4] = None\n",
    "katok[4] = katok[3] # 사나\n",
    "katok[3] = None\n",
    "# 3단계 :  3등자리에 미나 입력\n",
    "katok[3] = '미나'\n",
    "print(katok)\n",
    "\n",
    "#$ 데이터 삭제 (사나가 카톡 차단 == 4등을 삭제)\n",
    "# 1단계 : 데이터 지우기\n",
    "katok[4] = None\n",
    "# 2단계 : 한칸씩 앞으로 이동(지운 다음부터.... 마지막 까지)\n",
    "katok[4] = katok[5] # 지효\n",
    "katok[5] = None\n",
    "katok[5] = katok[6] # 모모\n",
    "katok[6] = None\n",
    "# 3단계 : 마지막 칸을 제거\n",
    "del(katok[6])\n",
    "print(katok)\n",
    "\n"
   ]
  },
  {
   "cell_type": "code",
   "execution_count": 12,
   "id": "5da7371b-954e-466a-805a-45437d9e364a",
   "metadata": {},
   "outputs": [
    {
     "name": "stdin",
     "output_type": "stream",
     "text": [
      "선택하세요(1: 추가, 2:삽입, 3:삭제, 4:종료)-->  1\n",
      "추가할 데이터-->  다현\n"
     ]
    },
    {
     "name": "stdout",
     "output_type": "stream",
     "text": [
      "['다현']\n"
     ]
    },
    {
     "name": "stdin",
     "output_type": "stream",
     "text": [
      "선택하세요(1: 추가, 2:삽입, 3:삭제, 4:종료)-->  1\n",
      "추가할 데이터-->  정연\n"
     ]
    },
    {
     "name": "stdout",
     "output_type": "stream",
     "text": [
      "['다현', '정연']\n"
     ]
    },
    {
     "name": "stdin",
     "output_type": "stream",
     "text": [
      "선택하세요(1: 추가, 2:삽입, 3:삭제, 4:종료)-->  1\n",
      "추가할 데이터-->  쯔위\n"
     ]
    },
    {
     "name": "stdout",
     "output_type": "stream",
     "text": [
      "['다현', '정연', '쯔위']\n"
     ]
    },
    {
     "name": "stdin",
     "output_type": "stream",
     "text": [
      "선택하세요(1: 추가, 2:삽입, 3:삭제, 4:종료)-->  2\n",
      "삽입할 위치-->  1\n",
      "추가할 데이터-->  하나\n"
     ]
    },
    {
     "name": "stdout",
     "output_type": "stream",
     "text": [
      "['다현', '하나', '정연', '쯔위']\n"
     ]
    },
    {
     "name": "stdin",
     "output_type": "stream",
     "text": [
      "선택하세요(1: 추가, 2:삽입, 3:삭제, 4:종료)-->  2\n",
      "삽입할 위치-->  0\n",
      "추가할 데이터-->  문별\n"
     ]
    },
    {
     "name": "stdout",
     "output_type": "stream",
     "text": [
      "['문별', '다현', '하나', '정연', '쯔위']\n"
     ]
    },
    {
     "name": "stdin",
     "output_type": "stream",
     "text": [
      "선택하세요(1: 추가, 2:삽입, 3:삭제, 4:종료)-->  3\n",
      "삭제할 위치-->  3\n"
     ]
    },
    {
     "name": "stdout",
     "output_type": "stream",
     "text": [
      "['문별', '다현', '하나', '쯔위']\n"
     ]
    },
    {
     "name": "stdin",
     "output_type": "stream",
     "text": [
      "선택하세요(1: 추가, 2:삽입, 3:삭제, 4:종료)-->  4\n"
     ]
    },
    {
     "name": "stdout",
     "output_type": "stream",
     "text": [
      "['문별', '다현', '하나', '쯔위']\n"
     ]
    }
   ],
   "source": [
    "## 함수 선언부\n",
    "def add_data(friend):\n",
    "    # 1단계 : 빈칸 추가\n",
    "    katok.append(None) \n",
    "    kLen = len(katok) # 선형 리스트 길이를 파악\n",
    "    # 2단계 : 마지막 칸에 데이터 입력\n",
    "    katok[kLen-1] = friend\n",
    "\n",
    "def insert_data(position, friend):\n",
    "    # 1단계 : 빈칸 추가\n",
    "    katok.append(None)\n",
    "    kLen = len(katok)\n",
    "    # 2단계 :  한칸씩 뒤로 이동 (마지막 부터 이동... 3등까지)\n",
    "    for i in range(kLen-1,position,-1):\n",
    "        katok[i] = katok[i-1]\n",
    "        katok[i-1] = None\n",
    "    # 3단계 :  3등자리에 미나 입력\n",
    "    katok[position] = friend\n",
    "\n",
    "def delete_data(position):\n",
    "    # 1단계: 데이터 삭제\n",
    "    katok[position] = None\n",
    "    klen=len(katok)\n",
    "     # 2단계 :  한칸씩 앞으로 이동\n",
    "    for i in range(position+1,klen):\n",
    "        katok[i-1]=katok[i]\n",
    "        katok[i]=None\n",
    "     # 3단계 :  마지막 칸 제거\n",
    "    del(katok[klen-1])\n",
    "    \n",
    "## 전역 변수부\n",
    "katok=[]\n",
    "select = -1 # 1: 추가, 2:삽입, 3:삭제, 4:종료\n",
    "\n",
    "## 메인 코드부\n",
    "if __name__=='__main__':\n",
    "    while (select !=4):\n",
    "\n",
    "        select = int(input('선택하세요(1: 추가, 2:삽입, 3:삭제, 4:종료)--> '))\n",
    "        \n",
    "        if (select ==1):\n",
    "            data=input('추가할 데이터--> ')\n",
    "            add_data(data)\n",
    "            print(katok)\n",
    "        elif (select ==2):\n",
    "            pos=int(input('삽입할 위치--> '))\n",
    "            data=input('추가할 데이터--> ')\n",
    "            insert_data(pos,data)\n",
    "            print(katok)\n",
    "        elif (select ==3):\n",
    "            pos=int(input('삭제할 위치--> '))\n",
    "            delete_data(pos)\n",
    "            print(katok)\n",
    "        elif (select ==4):\n",
    "            print(katok)\n",
    "            exit\n",
    "        else:\n",
    "            print('1~4 중 하나를 입렵하세요.')\n",
    "            contiune"
   ]
  },
  {
   "cell_type": "code",
   "execution_count": null,
   "id": "772c86b8-810d-4a83-90d5-24e115ee0db5",
   "metadata": {},
   "outputs": [],
   "source": []
  }
 ],
 "metadata": {
  "kernelspec": {
   "display_name": "Python 3 (ipykernel)",
   "language": "python",
   "name": "python3"
  },
  "language_info": {
   "codemirror_mode": {
    "name": "ipython",
    "version": 3
   },
   "file_extension": ".py",
   "mimetype": "text/x-python",
   "name": "python",
   "nbconvert_exporter": "python",
   "pygments_lexer": "ipython3",
   "version": "3.11.7"
  }
 },
 "nbformat": 4,
 "nbformat_minor": 5
}
